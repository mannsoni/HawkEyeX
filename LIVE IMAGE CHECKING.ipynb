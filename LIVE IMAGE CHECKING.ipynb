{
 "cells": [
  {
   "cell_type": "code",
   "execution_count": 13,
   "id": "513971c0",
   "metadata": {},
   "outputs": [
    {
     "ename": "NameError",
     "evalue": "name 'kwargs' is not defined",
     "output_type": "error",
     "traceback": [
      "\u001b[1;31m---------------------------------------------------------------------------\u001b[0m",
      "\u001b[1;31mNameError\u001b[0m                                 Traceback (most recent call last)",
      "Cell \u001b[1;32mIn[13], line 6\u001b[0m\n\u001b[0;32m      3\u001b[0m \u001b[38;5;28;01mimport\u001b[39;00m \u001b[38;5;21;01mtensorflow\u001b[39;00m \u001b[38;5;28;01mas\u001b[39;00m \u001b[38;5;21;01mtf\u001b[39;00m\n\u001b[0;32m      5\u001b[0m \u001b[38;5;66;03m# Load your trained TensorFlow model\u001b[39;00m\n\u001b[1;32m----> 6\u001b[0m model \u001b[38;5;241m=\u001b[39m tf\u001b[38;5;241m.\u001b[39mkeras\u001b[38;5;241m.\u001b[39mmodels\u001b[38;5;241m.\u001b[39mload_model(\u001b[38;5;124m'\u001b[39m\u001b[38;5;124mmodel_crack\u001b[39m\u001b[38;5;124m'\u001b[39m,\u001b[38;5;28mcompile\u001b[39m,\u001b[38;5;241m*\u001b[39m\u001b[38;5;241m*\u001b[39mkwargs)\n\u001b[0;32m      7\u001b[0m \u001b[38;5;66;03m# Define the classes for crack detection (e.g., 'crack' and 'no_crack')\u001b[39;00m\n\u001b[0;32m      8\u001b[0m classes \u001b[38;5;241m=\u001b[39m [\u001b[38;5;124m'\u001b[39m\u001b[38;5;124mno_crack\u001b[39m\u001b[38;5;124m'\u001b[39m, \u001b[38;5;124m'\u001b[39m\u001b[38;5;124mcrack\u001b[39m\u001b[38;5;124m'\u001b[39m]\n",
      "\u001b[1;31mNameError\u001b[0m: name 'kwargs' is not defined"
     ]
    }
   ],
   "source": [
    "import cv2\n",
    "import numpy as np\n",
    "import tensorflow as tf\n",
    "\n",
    "# Load your trained TensorFlow model\n",
    "model = tf.keras.models.load_model('model_crack',compile,**kwargs)\n",
    "# Define the classes for crack detection (e.g., 'crack' and 'no_crack')\n",
    "classes = ['no_crack', 'crack']\n",
    "if classes == 0:\n",
    "    print(\"No Crack\")\n",
    "else:\n",
    "    print(\"Crack\")\n",
    "print(classes)\n",
    "\n",
    "# Function to preprocess the image\n",
    "def preprocess_image(img):\n",
    "    # Resize the image to match the input size expected by your model\n",
    "    img = cv2.resize(img, (224, 224))\n",
    "    # Normalize pixel values to be within the range expected by your model\n",
    "    img = img / 255.0\n",
    "    return img\n",
    "\n",
    "# Function to display the results\n",
    "def display_results(img, predictions):\n",
    "    # Get the class label with the highest probability\n",
    "    class_idx = np.argmax(predictions)\n",
    "    class_label = classes[class_idx]\n",
    "    # Display the original image\n",
    "    cv2.imshow('Crack Detection', img)\n",
    "    # Display the result text\n",
    "    cv2.putText(img, class_label, (10, 30), cv2.FONT_HERSHEY_SIMPLEX, 1, (0, 255, 0), 2)\n",
    "    cv2.imshow('Crack Detection', img)\n",
    "\n",
    "# Initialize the webcam\n",
    "cap = cv2.VideoCapture(0)\n",
    "\n",
    "while True:\n",
    "    # Capture frame-by-frame\n",
    "    ret, frame = cap.read()\n",
    "    \n",
    "    # Preprocess the image\n",
    "    processed_frame = preprocess_image(frame)\n",
    "    \n",
    "    # Expand dimensions to match the input shape expected by the model\n",
    "    input_data = np.expand_dims(processed_frame, axis=0)\n",
    "    \n",
    "    # Perform inference\n",
    "    predictions = model_crack.predict(input_data)\n",
    "    \n",
    "    # Display the results\n",
    "    display_results(frame, predictions[0])\n",
    "    \n",
    "    # Check for 'q' key press to exit\n",
    "    if cv2.waitKey(1) & 0xFF == ord('q'):\n",
    "        break\n",
    "\n",
    "# Release the camera and close all OpenCV windows\n",
    "cap.release()\n",
    "cv2.destroyAllWindows()\n"
   ]
  },
  {
   "cell_type": "code",
   "execution_count": null,
   "id": "718732c7",
   "metadata": {},
   "outputs": [],
   "source": []
  }
 ],
 "metadata": {
  "kernelspec": {
   "display_name": "Python 3 (ipykernel)",
   "language": "python",
   "name": "python3"
  },
  "language_info": {
   "codemirror_mode": {
    "name": "ipython",
    "version": 3
   },
   "file_extension": ".py",
   "mimetype": "text/x-python",
   "name": "python",
   "nbconvert_exporter": "python",
   "pygments_lexer": "ipython3",
   "version": "3.11.5"
  }
 },
 "nbformat": 4,
 "nbformat_minor": 5
}
